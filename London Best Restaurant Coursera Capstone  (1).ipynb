{
 "cells": [
  {
   "cell_type": "markdown",
   "metadata": {},
   "source": [
    "# 1. Introduction "
   ]
  },
  {
   "cell_type": "markdown",
   "metadata": {},
   "source": [
    "This project aims to find the best location to open a new restaurant in London. \n",
    "\n",
    "Some of the factors that will be considered:\n",
    "\n",
    "- Number / density of restaurants in area\n",
    "- Rating of restaurants in area\n",
    "- Age of people in area\n",
    "- Rental costs\n",
    "\n",
    "The intended audience is someone who is considering opening a new restaurant in London."
   ]
  },
  {
   "cell_type": "markdown",
   "metadata": {},
   "source": [
    "# 2. Business Problem"
   ]
  },
  {
   "cell_type": "markdown",
   "metadata": {},
   "source": [
    "When opening a new restaurant it is vital to understand where the best location is because this will influence how succussful the restaurant is. For example, the most central location may have most footfall but it will also be the most expensive rent so there are many factors to consider."
   ]
  },
  {
   "cell_type": "markdown",
   "metadata": {},
   "source": [
    "# 3. Data"
   ]
  },
  {
   "cell_type": "markdown",
   "metadata": {},
   "source": [
    "Foursquare location data will be used for London venues to understand:\n",
    "- Number / density of restaurants in area\n",
    "- Number / density of other venues in area\n",
    "- Rating of restaurants in area (cluster)\n",
    "- Type of restaurants in area (cluster)\n",
    "- Type of the other venues in the area\n",
    "\n",
    "Office for National Statistics population for London boroughs will be used to understand age demographics \n",
    "\n",
    "Office for National Statistics index of private housing rental prices will be used to understand rental prices in areas. "
   ]
  }
 ],
 "metadata": {
  "kernelspec": {
   "display_name": "Python 3",
   "language": "python",
   "name": "python3"
  },
  "language_info": {
   "codemirror_mode": {
    "name": "ipython",
    "version": 3
   },
   "file_extension": ".py",
   "mimetype": "text/x-python",
   "name": "python",
   "nbconvert_exporter": "python",
   "pygments_lexer": "ipython3",
   "version": "3.7.6"
  }
 },
 "nbformat": 4,
 "nbformat_minor": 4
}
